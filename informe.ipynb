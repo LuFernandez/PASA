{
  "nbformat": 4,
  "nbformat_minor": 0,
  "metadata": {
    "kernelspec": {
      "display_name": "Python 3",
      "language": "python",
      "name": "python3"
    },
    "language_info": {
      "codemirror_mode": {
        "name": "ipython",
        "version": 3
      },
      "file_extension": ".py",
      "mimetype": "text/x-python",
      "name": "python",
      "nbconvert_exporter": "python",
      "pygments_lexer": "ipython3",
      "version": "3.6.5"
    },
    "colab": {
      "name": "informe.ipynb",
      "provenance": [],
      "toc_visible": true,
      "machine_shape": "hm",
      "include_colab_link": true
    }
  },
  "cells": [
    {
      "cell_type": "markdown",
      "metadata": {
        "id": "view-in-github",
        "colab_type": "text"
      },
      "source": [
        "<a href=\"https://colab.research.google.com/github/LuFernandez/PASA/blob/master/informe.ipynb\" target=\"_parent\"><img src=\"https://colab.research.google.com/assets/colab-badge.svg\" alt=\"Open In Colab\"/></a>"
      ]
    },
    {
      "cell_type": "markdown",
      "metadata": {
        "id": "W_1-li78CpyY",
        "colab_type": "text"
      },
      "source": [
        "# Filtrado óptimo\n",
        "\n",
        "Procesamiento Adaptativo de Señales Aleatorias\n",
        "\n",
        "© 2019 Parra, Rocío\n",
        "\n",
        "© 2019 Fernandez, Lucero Guadalupe"
      ]
    },
    {
      "cell_type": "code",
      "metadata": {
        "id": "jP9PoHhIMsX3",
        "colab_type": "code",
        "colab": {}
      },
      "source": [
        "from scipy.io import wavfile\n",
        "import numpy as np\n",
        "import scipy as scipy\n",
        "import matplotlib.pyplot as plt\n"
      ],
      "execution_count": 0,
      "outputs": []
    },
    {
      "cell_type": "markdown",
      "metadata": {
        "id": "xj3MEoIKC___",
        "colab_type": "text"
      },
      "source": [
        "##1. Cargamos datos"
      ]
    },
    {
      "cell_type": "markdown",
      "metadata": {
        "colab_type": "text",
        "id": "o--Nyr8zEEBX"
      },
      "source": [
        "###Muestras"
      ]
    },
    {
      "cell_type": "code",
      "metadata": {
        "colab_type": "code",
        "outputId": "4edae72b-b8a8-4c51-dba3-0e50264accfa",
        "id": "2zOCCatgWyTv",
        "colab": {
          "base_uri": "https://localhost:8080/",
          "height": 50
        }
      },
      "source": [
        "#cargo datos\n",
        "fs_music, music_aux = wavfile.read('lorde.wav')\n",
        "fs_voice, voice_aux = wavfile.read('sofunny.wav')\n",
        "fs_square, square = wavfile.read('cuadrada.wav')\n",
        "fs_lin, lin = wavfile.read('sweeplin.wav')\n",
        "fs_log, log = wavfile.read('sweeplog.wav')\n",
        "fs_noise, noise = wavfile.read('ruido.wav')\n",
        "voice = voice_aux[:,0]\n",
        "music = music_aux[:,0]\n",
        "\n",
        "#vectores de tiempo\n",
        "t_music = np.linspace(0,len(music)/fs_music, len(music))\n",
        "t_voice = np.linspace(0,len(voice)/fs_voice, len(voice))\n",
        "t_square = np.linspace(0,len(square)/fs_square, len(square))\n",
        "t_lin = np.linspace(0,len(lin)/fs_lin, len(lin))\n",
        "t_log = np.linspace(0,len(log)/fs_log, len(log))\n",
        "t_noise = np.linspace(0,len(noise)/fs_noise, len(noise))"
      ],
      "execution_count": 3,
      "outputs": [
        {
          "output_type": "stream",
          "text": [
            "/usr/local/lib/python3.6/dist-packages/scipy/io/wavfile.py:273: WavFileWarning: Chunk (non-data) not understood, skipping it.\n",
            "  WavFileWarning)\n"
          ],
          "name": "stderr"
        }
      ]
    },
    {
      "cell_type": "markdown",
      "metadata": {
        "id": "r5rwlauCD-QI",
        "colab_type": "text"
      },
      "source": [
        "###Grabaciones"
      ]
    },
    {
      "cell_type": "code",
      "metadata": {
        "id": "skDk6DD_Dk1H",
        "colab_type": "code",
        "colab": {}
      },
      "source": [
        "#cargo datos\n",
        "fs_music_r, music_r_aux = wavfile.read('grab-lorde.wav')\n",
        "fs_voice_r, voice_r_aux = wavfile.read('grab-sofunny.wav')\n",
        "fs_square_r, square_r_aux = wavfile.read('grab-cuadrada.wav')\n",
        "fs_lin_r, lin_r_aux = wavfile.read('grab-sweeplin.wav')\n",
        "fs_log_r, log_r_aux = wavfile.read('grab-sweeplog.wav')\n",
        "fs_noise_r, noise_r_aux = wavfile.read('grab-ruido.wav')\n",
        "music_r = music_r_aux[:,0]\n",
        "voice_r = voice_r_aux[:,0]\n",
        "square_r = square_r_aux[:,0]\n",
        "lin_r = lin_r_aux[:,0]\n",
        "log_r = log_r_aux[:,0]\n",
        "noise_r = noise_r_aux[:,0]\n",
        "\n",
        "#vectores de tiempo\n",
        "t_music_r_aux = np.linspace(0,len(music_r)/fs_music_r, len(music_r))\n",
        "t_voice_r_aux = np.linspace(0,len(voice_r)/fs_voice_r, len(voice_r))\n",
        "t_square_r_aux = np.linspace(0,len(square_r)/fs_square_r, len(square_r))\n",
        "t_lin_r_aux = np.linspace(0,len(lin_r)/fs_lin_r, len(lin_r))\n",
        "t_log_r_aux = np.linspace(0,len(log_r)/fs_log_r, len(log_r))\n",
        "t_noise_r_aux = np.linspace(0,len(noise_r)/fs_noise_r, len(noise_r))"
      ],
      "execution_count": 0,
      "outputs": []
    },
    {
      "cell_type": "markdown",
      "metadata": {
        "id": "A1_gJq32WnWm",
        "colab_type": "text"
      },
      "source": [
        "###Ploteo las grabaciones y las samples para ver que estén bien superpuestas"
      ]
    },
    {
      "cell_type": "code",
      "metadata": {
        "id": "Pl9IiRQXWkHL",
        "colab_type": "code",
        "colab": {}
      },
      "source": [
        "#shifts para que las señales empiecen igual\n",
        "music_shift = 0.555\n",
        "voice_shift = 1.174   #ok\n",
        "square_shift = .3\n",
        "lin_shift = 0.45\n",
        "log_shift = 0.3\n",
        "noise_shift = 0.7\n"
      ],
      "execution_count": 0,
      "outputs": []
    },
    {
      "cell_type": "code",
      "metadata": {
        "id": "kcmG9s3dWf2D",
        "colab_type": "code",
        "outputId": "6cfac550-79f2-40bc-cfc8-2a0782add37b",
        "colab": {
          "base_uri": "https://localhost:8080/",
          "height": 269
        }
      },
      "source": [
        "#musica\n",
        "# plt.figure()\n",
        "# plt.plot(t_music, music[:, 0])\n",
        "# plt.plot(t_music_r[int(music_shift*fs_music_r):]-music_shift, music_r[int(music_shift*fs_music_r):])\n",
        "#falta cortar los cuatro vectores acaaaaacasdasdasdasdasd                    a\n",
        "\n",
        "\n",
        "#voz\n",
        "plt.figure()\n",
        "voice_r = voice_r[int(voice_shift*fs_voice_r):]\n",
        "t_voice_r = t_voice_r_aux[int(voice_shift*fs_voice_r):]-voice_shift\n",
        "voice =  voice/np.linalg.norm(voice)   #normalizo\n",
        "voice_r =  voice_r/np.linalg.norm(voice_r)  #normalizo\n",
        "# voice =  voice/max(voice)   #normalizo\n",
        "# voice_r =  voice_r/max(voice_r)  #normalizo\n",
        "plt.plot(t_voice, voice)\n",
        "plt.plot(t_voice_r, voice_r)\n",
        "\n",
        "#cuadrada\n",
        "# plt.figure()\n",
        "# plt.plot(t_square, square)\n",
        "# plt.plot(t_square_r[int(square_shift*fs_square_r):]-square_shift, square_r[int(square_shift*fs_square_r):])\n",
        "\n",
        "\n",
        "#sweep lineal\n",
        "# plt.figure()\n",
        "# plt.plot(t_lin, lin)\n",
        "# plt.plot(t_lin_r[int(lin_shift*fs_lin_r):]-lin_shift, lin_r[int(lin_shift*fs_lin_r):])\n",
        "\n",
        "\n",
        "#sweep logaritmico\n",
        "# plt.figure()\n",
        "# plt.plot(t_log, log)\n",
        "# plt.plot(t_log_r[int(log_shift*fs_log_r):]-log_shift, log_r[int(log_shift*fs_log_r):])\n",
        "\n",
        "\n",
        "#ruido\n",
        "# plt.figure()\n",
        "# plt.plot(t_noise, noise)\n",
        "# plt.plot(t_noise_r[int(noise_shift*fs_noise_r):]-noise_shift, noise_r[int(noise_shift*fs_noise_r):])\n",
        "\n",
        "\n",
        "plt.grid()\n",
        "plt.show()"
      ],
      "execution_count": 6,
      "outputs": [
        {
          "output_type": "display_data",
          "data": {
            "image/png": "[encoded data removed]",
            "text/plain": [
              "<Figure size 432x288 with 1 Axes>"
            ]
          },
          "metadata": {
            "tags": []
          }
        }
      ]
    },
    {
      "cell_type": "code",
      "metadata": {
        "id": "7r9LR9WBtETk",
        "colab_type": "code",
        "colab": {}
      },
      "source": [
        "# import pandas\n",
        "# df = pandas.DataFrame(np.vstack(voice_r[:len(voice)//20]))\n",
        "# R = df.cov()"
      ],
      "execution_count": 0,
      "outputs": []
    },
    {
      "cell_type": "code",
      "metadata": {
        "id": "jL0J-Rgt0n-G",
        "colab_type": "code",
        "colab": {}
      },
      "source": [
        "import scipy.sparse.linalg as sp"
      ],
      "execution_count": 0,
      "outputs": []
    },
    {
      "cell_type": "code",
      "metadata": {
        "id": "Yv263dh8LD-k",
        "colab_type": "code",
        "colab": {
          "base_uri": "https://localhost:8080/",
          "height": 269
        },
        "outputId": "da86fcd9-737f-41a4-bde9-52d069a50f32"
      },
      "source": [
        "N = len(voice)\n",
        "L = 100\n",
        "lR, R, _, _ =plt.xcorr(voice, voice, maxlags=L)\n",
        "R = R[L:]/N\n",
        "R = scipy.linalg.toeplitz(R)\n",
        "lp, p, _, _ =plt.xcorr(voice[:len(voice_r)], voice_r[:len(voice_r)], maxlags=L)\n",
        "p = p[L:]/N\n",
        "Rinv = np.linalg.inv(R)\n",
        "\n",
        "sigmad = np.sum(np.power(voice_r, 2))/len(voice_r)"
      ],
      "execution_count": 18,
      "outputs": [
        {
          "output_type": "display_data",
          "data": {
            "image/png": "[encoded data removed]",
            "text/plain": [
              "<Figure size 432x288 with 1 Axes>"
            ]
          },
          "metadata": {
            "tags": []
          }
        }
      ]
    },
    {
      "cell_type": "code",
      "metadata": {
        "id": "ZMNQkJ5mZHwO",
        "colab_type": "code",
        "colab": {}
      },
      "source": [
        "def calc_optimum_filter(sigma2, Rinv, p):\n",
        "    '''\n",
        "    Calcula el filtro Wiener óptimo\n",
        "    \n",
        "    sigma2: energía de la señal de entrada\n",
        "    R: matriz de autocorrelación\n",
        "    p: vector de correlación cruzada\n",
        "    '''\n",
        "    wo = np.dot(Rinv, p)\n",
        "    \n",
        "    Jmin = sigma2 - p.dot(wo)\n",
        "    \n",
        "    return (wo, Jmin)"
      ],
      "execution_count": 0,
      "outputs": []
    },
    {
      "cell_type": "code",
      "metadata": {
        "id": "6UhyEgsBTlZ2",
        "colab_type": "code",
        "outputId": "2eb6c645-499c-4210-aade-acc2a49c6b6c",
        "colab": {
          "base_uri": "https://localhost:8080/",
          "height": 269
        }
      },
      "source": [
        "Mmax = 100\n",
        "\n",
        "\n",
        "Jmin = np.zeros(Mmax)\n",
        "for M in range(1, Mmax + 1):\n",
        "    wo, Jmin[M - 1] = calc_optimum_filter(sigmad, Rinv[0:M, 0:M], p[0:M])\n",
        "\n",
        "# plt.figure(figsize=(8, 12))\n",
        "plt.figure()\n",
        "plt.plot(range(1, Mmax + 1), Jmin, marker='o')\n",
        "# plt.xlabel('$M$', fontsize=14)\n",
        "# plt.ylim(0.0)\n",
        "# plt.ylabel('$J_{min}(M)$', fontsize=14)\n",
        "plt.show()\n"
      ],
      "execution_count": 22,
      "outputs": [
        {
          "output_type": "display_data",
          "data": {
            "image/png": "[encoded data removed]",
            "text/plain": [
              "<Figure size 432x288 with 1 Axes>"
            ]
          },
          "metadata": {
            "tags": []
          }
        }
      ]
    }
  ]
}