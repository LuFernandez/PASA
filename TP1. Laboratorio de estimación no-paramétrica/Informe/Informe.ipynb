{
  "nbformat": 4,
  "nbformat_minor": 0,
  "metadata": {
    "colab": {
      "name": "Informe.ipynb",
      "version": "0.3.2",
      "provenance": [],
      "collapsed_sections": [],
      "include_colab_link": true
    },
    "kernelspec": {
      "name": "python3",
      "display_name": "Python 3"
    }
  },
  "cells": [
    {
      "cell_type": "markdown",
      "metadata": {
        "id": "view-in-github",
        "colab_type": "text"
      },
      "source": [
        "<a href=\"https://colab.research.google.com/github/LuFernandez/PASA/blob/master/Informe.ipynb\" target=\"_parent\"><img src=\"https://colab.research.google.com/assets/colab-badge.svg\" alt=\"Open In Colab\"/></a>"
      ]
    },
    {
      "cell_type": "markdown",
      "metadata": {
        "id": "bu74w6bTW9v-",
        "colab_type": "text"
      },
      "source": [
        "# Laboratorio de estimación no-paramétrica\n",
        "Procesamiento Adaptativo de Señales Aleatorias\n",
        "\n",
        "© 2019 Tomas A. González Orlando\n",
        "\n",
        "© 2019 Lucero G. Fernández"
      ]
    },
    {
      "cell_type": "markdown",
      "metadata": {
        "id": "aqH7tCBNXszQ",
        "colab_type": "text"
      },
      "source": [
        "## Imports de trabajo"
      ]
    },
    {
      "cell_type": "code",
      "metadata": {
        "id": "RAqpp1aLW5l7",
        "colab_type": "code",
        "colab": {}
      },
      "source": [
        ""
      ],
      "execution_count": 0,
      "outputs": []
    }
  ]
}