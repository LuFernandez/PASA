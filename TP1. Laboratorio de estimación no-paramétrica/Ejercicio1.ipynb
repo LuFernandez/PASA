{
  "nbformat": 4,
  "nbformat_minor": 0,
  "metadata": {
    "colab": {
      "name": "Ejercicio1.ipynb",
      "version": "0.3.2",
      "provenance": [],
      "collapsed_sections": [],
      "toc_visible": true,
      "include_colab_link": true
    },
    "kernelspec": {
      "name": "python3",
      "display_name": "Python 3"
    }
  },
  "cells": [
    {
      "cell_type": "markdown",
      "metadata": {
        "id": "view-in-github",
        "colab_type": "text"
      },
      "source": [
        "<a href=\"https://colab.research.google.com/github/LuFernandez/PASA/blob/master/TP1.%20Laboratorio%20de%20estimaci%C3%B3n%20no-param%C3%A9trica/Ejercicio1.ipynb\" target=\"_parent\"><img src=\"https://colab.research.google.com/assets/colab-badge.svg\" alt=\"Open In Colab\"/></a>"
      ]
    },
    {
      "cell_type": "markdown",
      "metadata": {
        "id": "vfWTbsZLZrSq",
        "colab_type": "text"
      },
      "source": [
        "# Ejercicio 1\n",
        "\n"
      ]
    },
    {
      "cell_type": "markdown",
      "metadata": {
        "id": "7KucEcksBv_R",
        "colab_type": "text"
      },
      "source": [
        "## Preparativos\n"
      ]
    },
    {
      "cell_type": "markdown",
      "metadata": {
        "id": "i2A6Vx1wJVAu",
        "colab_type": "text"
      },
      "source": [
        "### Imports necesarios a lo largo del ejercicio"
      ]
    },
    {
      "cell_type": "code",
      "metadata": {
        "id": "YoSjWtSZ93Oi",
        "colab_type": "code",
        "colab": {}
      },
      "source": [
        "import h5py as h5\n",
        "from scipy import signal as scsig\n",
        "import numpy as np\n",
        "import matplotlib.pyplot as plt\n",
        "import readligo as rl"
      ],
      "execution_count": 0,
      "outputs": []
    },
    {
      "cell_type": "markdown",
      "metadata": {
        "id": "syyyeisyJMD0",
        "colab_type": "text"
      },
      "source": [
        "### Clonamos el repositorio de Github"
      ]
    },
    {
      "cell_type": "code",
      "metadata": {
        "id": "1dLRkh_BIwfM",
        "colab_type": "code",
        "colab": {
          "base_uri": "https://localhost:8080/",
          "height": 120
        },
        "outputId": "de594cb9-b9e3-434e-d276-481f071f03e8"
      },
      "source": [
        "#https://medium.com/@navan0/how-to-push-files-into-github-from-google-colab-379fd0077aa8\n",
        "!git clone https://github.com/LuFernandez/PASA.git"
      ],
      "execution_count": 7,
      "outputs": [
        {
          "output_type": "stream",
          "text": [
            "Cloning into 'PASA'...\n",
            "remote: Enumerating objects: 70, done.\u001b[K\n",
            "remote: Counting objects: 100% (70/70), done.\u001b[K\n",
            "remote: Compressing objects: 100% (56/56), done.\u001b[K\n",
            "remote: Total 70 (delta 16), reused 55 (delta 11), pack-reused 0\u001b[K\n",
            "Unpacking objects: 100% (70/70), done.\n"
          ],
          "name": "stdout"
        }
      ]
    },
    {
      "cell_type": "code",
      "metadata": {
        "id": "VokwgkdZKEKZ",
        "colab_type": "code",
        "colab": {
          "base_uri": "https://localhost:8080/",
          "height": 34
        },
        "outputId": "3fc5dcb1-bfc1-43a0-bcb6-8baa7245c59f"
      },
      "source": [
        "!git init\n",
        "!git config — global user.email “togonzalez@itba.edu.ar”\n",
        "!git config — global user.name “taomasgonzalez”"
      ],
      "execution_count": 22,
      "outputs": [
        {
          "output_type": "stream",
          "text": [
            "Initialized empty Git repository in /content/.git/\n"
          ],
          "name": "stdout"
        }
      ]
    },
    {
      "cell_type": "markdown",
      "metadata": {
        "id": "1P68c0QA9-JI",
        "colab_type": "text"
      },
      "source": [
        "## Lectura de datos"
      ]
    },
    {
      "cell_type": "code",
      "metadata": {
        "id": "l7DfiI3EZSSN",
        "colab_type": "code",
        "colab": {}
      },
      "source": [
        "def read_data(path, name):\n",
        "  strain, time, chan_dict = rl.loaddata(path, name)\n",
        "  dt = time[1] - time[0]\n",
        "  times = dt*np.array([i for i in range(len(strain))])\n",
        "  return (strain, times, chan_dict)\n",
        "\n",
        "fs = 4096\n",
        "folder_path = \"PASA/TP1. Laboratorio de estimación no-paramétrica/LIGO/\"\n",
        "# leemos los datos de Livingston\n",
        "strain_l1, times_l1, chan_dict_l1 = read_data(path=folder_path+'L-L1_LOSC_4_V2-1126259446-32.hdf5', name='L1')\n",
        "\n",
        "# leemos los datos de Hanford\n",
        "strain_h1, time_h1, chan_dict_h1 = read_data(path=folder_path+'H-H1_LOSC_4_V2-1126259446-32.hdf5', name='H1')\n"
      ],
      "execution_count": 0,
      "outputs": []
    },
    {
      "cell_type": "markdown",
      "metadata": {
        "id": "ixw6IHWsB5b4",
        "colab_type": "text"
      },
      "source": [
        "## Visualización de datos"
      ]
    },
    {
      "cell_type": "code",
      "metadata": {
        "id": "vkJZbDW_B7st",
        "colab_type": "code",
        "colab": {
          "base_uri": "https://localhost:8080/",
          "height": 276
        },
        "outputId": "2dc63047-dd02-4c93-9b70-085909f7d698"
      },
      "source": [
        "plt.plot(times_l1, strain_h1)\n",
        "plt.plot(time_h1, strain_l1)\n",
        "plt.grid()\n",
        "plt.show()"
      ],
      "execution_count": 21,
      "outputs": [
        {
          "output_type": "display_data",
          "data": {
            "image/png": "[encoded data removed]",
            "text/plain": [
              "<Figure size 432x288 with 1 Axes>"
            ]
          },
          "metadata": {
            "tags": []
          }
        }
      ]
    },
    {
      "cell_type": "code",
      "metadata": {
        "id": "mjtd8-JVPaQ0",
        "colab_type": "code",
        "colab": {
          "base_uri": "https://localhost:8080/",
          "height": 34
        },
        "outputId": "c6637790-9444-4999-e87e-add516c6832d"
      },
      "source": [
        ""
      ],
      "execution_count": 31,
      "outputs": [
        {
          "output_type": "stream",
          "text": [
            "PASA  __pycache__  readligo.py\tsample_data\n"
          ],
          "name": "stdout"
        }
      ]
    },
    {
      "cell_type": "code",
      "metadata": {
        "id": "RzThTIz_MczJ",
        "colab_type": "code",
        "colab": {
          "base_uri": "https://localhost:8080/",
          "height": 310
        },
        "outputId": "5d0156da-6dc4-402e-feac-8dfe1134e163"
      },
      "source": [
        "#!git add -\n",
        "#!git commit -m “Meto el archivo Ejercicio1”"
      ],
      "execution_count": 24,
      "outputs": [
        {
          "output_type": "stream",
          "text": [
            "warning: adding embedded git repository: PASA\n",
            "hint: You've added another git repository inside your current repository.\n",
            "hint: Clones of the outer repository will not contain the contents of\n",
            "hint: the embedded repository and will not know how to obtain it.\n",
            "hint: If you meant to add a submodule, use:\n",
            "hint: \n",
            "hint: \tgit submodule add <url> PASA\n",
            "hint: \n",
            "hint: If you added this path by mistake, you can remove it from the\n",
            "hint: index with:\n",
            "hint: \n",
            "hint: \tgit rm --cached PASA\n",
            "hint: \n",
            "hint: See \"git help submodule\" for more information.\n",
            "error: pathspec 'el' did not match any file(s) known to git.\n",
            "error: pathspec 'archivo' did not match any file(s) known to git.\n",
            "error: pathspec 'Ejercicio1”' did not match any file(s) known to git.\n"
          ],
          "name": "stdout"
        }
      ]
    },
    {
      "cell_type": "markdown",
      "metadata": {
        "id": "zoLK2-ota0hl",
        "colab_type": "text"
      },
      "source": [
        "## a) Estimación del espectro de potencia del ruido mediante el uso de periodogramas"
      ]
    },
    {
      "cell_type": "markdown",
      "metadata": {
        "id": "CRWU-EWhBfa7",
        "colab_type": "text"
      },
      "source": [
        "### Implementación del periodograma"
      ]
    },
    {
      "cell_type": "code",
      "metadata": {
        "id": "XK4B-mdLBWxd",
        "colab_type": "code",
        "colab": {}
      },
      "source": [
        "def periodogram(fs, data, figure_number, y_lim, x_lim, title):\n",
        "  #f, Pxx = scsig.periodogram(x=strain_l1, fs=fs)\n",
        "  f, Pxx = scsig.periodogram(x=strain_l1, fs=fs)\n",
        "  plt.figure(1)\n",
        "  plt.loglog(f, Pxx)\n",
        "  plt.ylim((10e-50, 1e-37))\n",
        "  plt.xlim((20, 2000))\n",
        "  plt.title(\"Periodograma\")\n",
        "  plt.grid()\n",
        "  return (f, Pxx)\n",
        "\n",
        "f_l1, Pxx_l1 = periodogram(fs=fs, data=strain_l1, figure_number=1, x_lim=(20, 2000), y_lim=(10e-50, 1e-37), title=\"Periodograma L1\")\n",
        "f_h1, Pxx_h1 = periodogram(fs=fs, data=strain_h1, figure_number=2, x_lim=(20, 2000), y_lim=(10e-50, 1e-37), title=\"Periodograma H1\")\n",
        "\n",
        "# f, Pxx = scsig.welch(x=strain_l1, window='boxcar', nperseg=len(strain_l1)//5, fs=fs)\n",
        "# plt.figure(2)\n",
        "# plt.loglog(f, Pxx)\n",
        "# plt.ylim((1e-45, 1e-38))\n",
        "# plt.xlim()\n",
        "# plt.title(\"Welch-Bartlet\")\n",
        "# plt.grid()\n",
        "# plt.show()"
      ],
      "execution_count": 0,
      "outputs": []
    },
    {
      "cell_type": "markdown",
      "metadata": {
        "id": "0qGpZiB9HWMy",
        "colab_type": "text"
      },
      "source": [
        "## b) Estimación "
      ]
    }
  ]
}