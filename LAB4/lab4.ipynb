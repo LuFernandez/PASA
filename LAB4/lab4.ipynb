{
  "nbformat": 4,
  "nbformat_minor": 0,
  "metadata": {
    "colab": {
      "name": "lab4.ipynb",
      "provenance": [],
      "toc_visible": true,
      "include_colab_link": true
    },
    "kernelspec": {
      "name": "python3",
      "display_name": "Python 3"
    }
  },
  "cells": [
    {
      "cell_type": "markdown",
      "metadata": {
        "id": "view-in-github",
        "colab_type": "text"
      },
      "source": [
        "<a href=\"https://colab.research.google.com/github/LuFernandez/PASA/blob/master/LAB4/lab4.ipynb\" target=\"_parent\"><img src=\"https://colab.research.google.com/assets/colab-badge.svg\" alt=\"Open In Colab\"/></a>"
      ]
    },
    {
      "cell_type": "markdown",
      "metadata": {
        "id": "NWVPqIP_BZKj",
        "colab_type": "text"
      },
      "source": [
        "# Descenso por gradiente\n",
        "\n",
        "Procesamiento Adaptativo de Señales Aleatorias\n",
        "\n",
        "© 2019 Mestanza, Joaquín\n",
        "\n",
        "© 2019 Fernandez, Lucero Guadalupe"
      ]
    },
    {
      "cell_type": "code",
      "metadata": {
        "id": "N5GEX3BID2Jh",
        "colab_type": "code",
        "colab": {}
      },
      "source": [
        "from IPython.display import clear_output\n",
        "from scipy.io.wavfile import read\n",
        "import numpy as np\n",
        "import scipy\n",
        "import IPython.display as ipd\n",
        "import matplotlib.pyplot as plt\n",
        "import wave, struct, math, random\n",
        "from IPython.display import Audio\n",
        "from scipy import signal as sgn\n",
        "from scipy.linalg import toeplitz\n",
        "from statsmodels.tsa.stattools import acf\n",
        "from statsmodels.tsa.stattools import ccf"
      ],
      "execution_count": 0,
      "outputs": []
    },
    {
      "cell_type": "code",
      "metadata": {
        "id": "VwYi3v7TBD12",
        "colab_type": "code",
        "colab": {}
      },
      "source": [
        "!wget \"https://raw.githubusercontent.com/LuFernandez/PASA/master/LAB4/data/Tamara_Laurel_-_Sweet_extract.wav\"\n",
        "clear_output()"
      ],
      "execution_count": 0,
      "outputs": []
    },
    {
      "cell_type": "code",
      "metadata": {
        "id": "ODXrW5ylG8tQ",
        "colab_type": "code",
        "colab": {}
      },
      "source": [
        "\n",
        "def get_mono_array(stereo_file_name):\n",
        "  file = read(stereo_file_name)\n",
        "  fs = file[0]\n",
        "  datos = np.array(file[1],dtype=float) \n",
        "  if len(np.shape(datos))>1: #si tiene dos canales\n",
        "      ch0 = datos[:, 0]\n",
        "      ch1 = datos[:, 1]\n",
        "      datos = (ch0 + ch1)/2  # o lo hacemos mono\n",
        "  return fs, datos\n",
        "  \n",
        "def get_signal(path):\n",
        "  file_name = path\n",
        "  fs, signal = get_mono_array(file_name)\n",
        "  signal =  signal/np.linalg.norm(signal)   #normalizo\n",
        "  return signal\n"
      ],
      "execution_count": 0,
      "outputs": []
    }
  ]
}