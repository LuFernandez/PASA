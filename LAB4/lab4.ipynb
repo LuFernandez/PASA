{
  "nbformat": 4,
  "nbformat_minor": 0,
  "metadata": {
    "colab": {
      "name": "lab4.ipynb",
      "provenance": [],
      "include_colab_link": true
    },
    "kernelspec": {
      "name": "python3",
      "display_name": "Python 3"
    }
  },
  "cells": [
    {
      "cell_type": "markdown",
      "metadata": {
        "id": "view-in-github",
        "colab_type": "text"
      },
      "source": [
        "<a href=\"https://colab.research.google.com/github/LuFernandez/PASA/blob/master/LAB4/lab4.ipynb\" target=\"_parent\"><img src=\"https://colab.research.google.com/assets/colab-badge.svg\" alt=\"Open In Colab\"/></a>"
      ]
    },
    {
      "cell_type": "markdown",
      "metadata": {
        "id": "NWVPqIP_BZKj",
        "colab_type": "text"
      },
      "source": [
        "# Descenso por gradiente\n",
        "\n",
        "Procesamiento Adaptativo de Señales Aleatorias\n",
        "\n",
        "© 2019 Mestanza, Joaquín\n",
        "\n",
        "© 2019 Fernandez, Lucero Guadalupe"
      ]
    },
    {
      "cell_type": "code",
      "metadata": {
        "id": "N5GEX3BID2Jh",
        "colab_type": "code",
        "colab": {}
      },
      "source": [
        "from IPython.display import clear_output\n",
        "from scipy.io.wavfile import read\n",
        "import numpy as np\n",
        "import scipy\n",
        "import IPython.display as ipd\n",
        "import matplotlib.pyplot as plt\n",
        "import wave, struct, math, random\n",
        "from IPython.display import Audio\n",
        "from scipy import signal as sgn\n",
        "from scipy.linalg import toeplitz\n",
        "from statsmodels.tsa.stattools import acf\n",
        "from statsmodels.tsa.stattools import ccf"
      ],
      "execution_count": 0,
      "outputs": []
    },
    {
      "cell_type": "code",
      "metadata": {
        "id": "VwYi3v7TBD12",
        "colab_type": "code",
        "colab": {}
      },
      "source": [
        "!wget \"https://raw.githubusercontent.com/LuFernandez/PASA/master/LAB4/data/Tamara_Laurel_-_Sweet_extract.wav\"\n",
        "clear_output()"
      ],
      "execution_count": 0,
      "outputs": []
    },
    {
      "cell_type": "code",
      "metadata": {
        "id": "ODXrW5ylG8tQ",
        "colab_type": "code",
        "colab": {}
      },
      "source": [
        "\n",
        "def get_mono_array(stereo_file_name):\n",
        "  file = read(stereo_file_name)\n",
        "  fs = file[0]\n",
        "  datos = np.array(file[1],dtype=float) \n",
        "  if len(np.shape(datos))>1: #si tiene dos canales\n",
        "      ch0 = datos[:, 0]\n",
        "      ch1 = datos[:, 1]\n",
        "      datos = (ch0 + ch1)/2  # o lo hacemos mono\n",
        "  return fs, datos\n",
        "  \n",
        "def get_signal(path):\n",
        "  file_name = path\n",
        "  fs, signal = get_mono_array(file_name)\n",
        "  signal =  signal/np.linalg.norm(signal)   #normalizo\n",
        "  return signal\n"
      ],
      "execution_count": 0,
      "outputs": []
    },
    {
      "cell_type": "code",
      "metadata": {
        "id": "0FthF6FAzP74",
        "colab_type": "code",
        "colab": {}
      },
      "source": [
        "#codigo de ejemplo otorgado por la cátedra\n",
        "def cost_function(w1, w2, sigma2u):\n",
        "  w = [w1, w2]\n",
        "  \n",
        "  J = sigma2u\n",
        "  J -= np.dot(np.transpose(w), p)\n",
        "  J -= np.dot(np.transpose(p), w)\n",
        "  J += np.dot(np.transpose(w), np.dot(R, w))\n",
        "  \n",
        "  return J"
      ],
      "execution_count": 0,
      "outputs": []
    },
    {
      "cell_type": "code",
      "metadata": {
        "id": "vO3IPv2LvJpU",
        "colab_type": "code",
        "colab": {}
      },
      "source": [
        "\"\"\"Implementa el filtrado óptimo Wiener con descenso por gradiente.\n",
        "\n",
        "Argumentos:\n",
        "  R: matriz de autocorrelación\n",
        "  p: matriz de correlación cruzada\n",
        "  w0: valor inicial de los coeficientes del filtro\n",
        "  mu: tamaño de paso\n",
        "  N: número máximo de iteraciones\n",
        "\n",
        "Devuelve:\n",
        "  Una matriz de tipo np.array en cuyas filas están\n",
        "  los coeficientes w para cada paso.\n",
        "\"\"\"\n",
        "def steepest_descent(R, p, w0, mu, N, sigma2u):\n",
        "  J = np.zeros(N)\n",
        "\n",
        "  Wt[0, :] = w0\n",
        "  J[0] = cost_function(Wt[0, 0], Wt[0, 1], sigma2u)\n",
        "  \n",
        "  for n in range(1, N):\n",
        "    Wt[n, :] = Wt[n - 1, :] + mu * (p - np.dot(R, Wt[n - 1, :]))\n",
        "    J[n] = cost_function(Wt[n, 0], Wt[n, 1], sigma2u)\n",
        "  \n",
        "  Jmin = sigma2u - np.dot(np.transpose(p), np.dot(R, p))\n",
        "    \n",
        "  # return Wt\n",
        "  return J, Jmin, Wt"
      ],
      "execution_count": 0,
      "outputs": []
    },
    {
      "cell_type": "markdown",
      "metadata": {
        "id": "OGBjAu6Tz1dx",
        "colab_type": "text"
      },
      "source": [
        "Probamos la función con los argumentos sugeridos y ploteamos los coeficientes en el tiempo."
      ]
    },
    {
      "cell_type": "code",
      "metadata": {
        "id": "7KPNWKM1z44B",
        "colab_type": "code",
        "colab": {
          "base_uri": "https://localhost:8080/",
          "height": 406
        },
        "outputId": "79c06045-0ef5-447d-cd0e-cd8f51ce71ff"
      },
      "source": [
        "R = np.array([[2, 1], [1,2]])\n",
        "p = [6, 4]\n",
        "mu = 0.1\n",
        "N = 1000\n",
        "w0 = [0, 0]\n",
        "sigma2u = 20\n",
        "\n",
        "Wt = np.ones((N, len(w0)))\n",
        "J, Jmin, Wt = steepest_descent(R, p, w0, mu, N, sigma2u)\n",
        "\n",
        "plt.figure(figsize=(8, 6))\n",
        "plt.plot(Wt[:,0])\n",
        "plt.plot(Wt[:,1])\n",
        "plt.legend(['W1', 'W2'], fontsize=14)\n",
        "plt.title('$W_i$ en el tiempo')\n",
        "plt.xlabel('iteraciones')\n",
        "plt.ylabel('$W_i$')\n",
        "plt.grid()\n",
        "plt.show()"
      ],
      "execution_count": 143,
      "outputs": [
        {
          "output_type": "display_data",
          "data": {
            "image/png": "[encoded data removed]",
            "text/plain": [
              "<Figure size 576x432 with 1 Axes>"
            ]
          },
          "metadata": {
            "tags": []
          }
        }
      ]
    }
  ]
}