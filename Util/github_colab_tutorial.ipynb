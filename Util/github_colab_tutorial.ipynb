{
  "nbformat": 4,
  "nbformat_minor": 0,
  "metadata": {
    "colab": {
      "name": "github_colab_tutorial.ipynb",
      "version": "0.3.2",
      "provenance": [],
      "collapsed_sections": [],
      "toc_visible": true
    },
    "kernelspec": {
      "name": "python3",
      "display_name": "Python 3"
    }
  },
  "cells": [
    {
      "cell_type": "markdown",
      "metadata": {
        "id": "dRNNhM3iXV4E",
        "colab_type": "text"
      },
      "source": [
        "# Manejo de Github con google Colab"
      ]
    },
    {
      "cell_type": "markdown",
      "metadata": {
        "id": "lH3BraCAXaTZ",
        "colab_type": "text"
      },
      "source": [
        "## Inicializamos git en la computadora de google colab y configuramos con nuestra cuenta"
      ]
    },
    {
      "cell_type": "code",
      "metadata": {
        "id": "Q7s4pNxRXJ49",
        "colab_type": "code",
        "colab": {
          "base_uri": "https://localhost:8080/",
          "height": 34
        },
        "outputId": "617cee6b-61c7-4eaf-d079-ff5388e4ba44"
      },
      "source": [
        "!git init\n",
        "!git config --global user.email “togonzalez@itba.edu.ar”\n",
        "!git config --global user.name “taomasgonzalez”"
      ],
      "execution_count": 16,
      "outputs": [
        {
          "output_type": "stream",
          "text": [
            "Reinitialized existing Git repository in /content/PASA/.git/\n"
          ],
          "name": "stdout"
        }
      ]
    },
    {
      "cell_type": "markdown",
      "metadata": {
        "id": "dDERTpTXXPPP",
        "colab_type": "text"
      },
      "source": [
        "## Clonamos el repositorio"
      ]
    },
    {
      "cell_type": "code",
      "metadata": {
        "id": "ED4nGWNmXE7a",
        "colab_type": "code",
        "colab": {
          "base_uri": "https://localhost:8080/",
          "height": 120
        },
        "outputId": "90f99ede-7d18-41e3-d5c8-919a94748dcf"
      },
      "source": [
        "#https://medium.com/@navan0/how-to-push-files-into-github-from-google-colab-379fd0077aa8\n",
        "!git clone https://github.com/LuFernandez/PASA.git"
      ],
      "execution_count": 17,
      "outputs": [
        {
          "output_type": "stream",
          "text": [
            "Cloning into 'PASA'...\n",
            "remote: Enumerating objects: 88, done.\u001b[K\n",
            "remote: Counting objects:   1% (1/88)\u001b[K\rremote: Counting objects:   2% (2/88)\u001b[K\rremote: Counting objects:   3% (3/88)\u001b[K\rremote: Counting objects:   4% (4/88)\u001b[K\rremote: Counting objects:   5% (5/88)\u001b[K\rremote: Counting objects:   6% (6/88)\u001b[K\rremote: Counting objects:   7% (7/88)\u001b[K\rremote: Counting objects:   9% (8/88)\u001b[K\rremote: Counting objects:  10% (9/88)\u001b[K\rremote: Counting objects:  11% (10/88)\u001b[K\rremote: Counting objects:  12% (11/88)\u001b[K\rremote: Counting objects:  13% (12/88)\u001b[K\rremote: Counting objects:  14% (13/88)\u001b[K\rremote: Counting objects:  15% (14/88)\u001b[K\rremote: Counting objects:  17% (15/88)\u001b[K\rremote: Counting objects:  18% (16/88)\u001b[K\rremote: Counting objects:  19% (17/88)\u001b[K\rremote: Counting objects:  20% (18/88)\u001b[K\rremote: Counting objects:  21% (19/88)\u001b[K\rremote: Counting objects:  22% (20/88)\u001b[K\rremote: Counting objects:  23% (21/88)\u001b[K\rremote: Counting objects:  25% (22/88)\u001b[K\rremote: Counting objects:  26% (23/88)\u001b[K\rremote: Counting objects:  27% (24/88)\u001b[K\rremote: Counting objects:  28% (25/88)\u001b[K\rremote: Counting objects:  29% (26/88)\u001b[K\rremote: Counting objects:  30% (27/88)\u001b[K\rremote: Counting objects:  31% (28/88)\u001b[K\rremote: Counting objects:  32% (29/88)\u001b[K\rremote: Counting objects:  34% (30/88)\u001b[K\rremote: Counting objects:  35% (31/88)\u001b[K\rremote: Counting objects:  36% (32/88)\u001b[K\rremote: Counting objects:  37% (33/88)\u001b[K\rremote: Counting objects:  38% (34/88)\u001b[K\rremote: Counting objects:  39% (35/88)\u001b[K\rremote: Counting objects:  40% (36/88)\u001b[K\rremote: Counting objects:  42% (37/88)\u001b[K\rremote: Counting objects:  43% (38/88)\u001b[K\rremote: Counting objects:  44% (39/88)\u001b[K\rremote: Counting objects:  45% (40/88)\u001b[K\rremote: Counting objects:  46% (41/88)\u001b[K\rremote: Counting objects:  47% (42/88)\u001b[K\rremote: Counting objects:  48% (43/88)\u001b[K\rremote: Counting objects:  50% (44/88)\u001b[K\rremote: Counting objects:  51% (45/88)\u001b[K\rremote: Counting objects:  52% (46/88)\u001b[K\rremote: Counting objects:  53% (47/88)\u001b[K\rremote: Counting objects:  54% (48/88)\u001b[K\rremote: Counting objects:  55% (49/88)\u001b[K\rremote: Counting objects:  56% (50/88)\u001b[K\rremote: Counting objects:  57% (51/88)\u001b[K\rremote: Counting objects:  59% (52/88)\u001b[K\rremote: Counting objects:  60% (53/88)\u001b[K\rremote: Counting objects:  61% (54/88)\u001b[K\rremote: Counting objects:  62% (55/88)\u001b[K\rremote: Counting objects:  63% (56/88)\u001b[K\rremote: Counting objects:  64% (57/88)\u001b[K\rremote: Counting objects:  65% (58/88)\u001b[K\rremote: Counting objects:  67% (59/88)\u001b[K\rremote: Counting objects:  68% (60/88)\u001b[K\rremote: Counting objects:  69% (61/88)\u001b[K\rremote: Counting objects:  70% (62/88)\u001b[K\rremote: Counting objects:  71% (63/88)\u001b[K\rremote: Counting objects:  72% (64/88)\u001b[K\rremote: Counting objects:  73% (65/88)\u001b[K\rremote: Counting objects:  75% (66/88)\u001b[K\rremote: Counting objects:  76% (67/88)\u001b[K\rremote: Counting objects:  77% (68/88)\u001b[K\rremote: Counting objects:  78% (69/88)\u001b[K\rremote: Counting objects:  79% (70/88)\u001b[K\rremote: Counting objects:  80% (71/88)\u001b[K\rremote: Counting objects:  81% (72/88)\u001b[K\rremote: Counting objects:  82% (73/88)\u001b[K\rremote: Counting objects:  84% (74/88)\u001b[K\rremote: Counting objects:  85% (75/88)\u001b[K\rremote: Counting objects:  86% (76/88)\u001b[K\rremote: Counting objects:  87% (77/88)\u001b[K\rremote: Counting objects:  88% (78/88)\u001b[K\rremote: Counting objects:  89% (79/88)\u001b[K\rremote: Counting objects:  90% (80/88)\u001b[K\rremote: Counting objects:  92% (81/88)\u001b[K\rremote: Counting objects:  93% (82/88)\u001b[K\rremote: Counting objects:  94% (83/88)\u001b[K\rremote: Counting objects:  95% (84/88)\u001b[K\rremote: Counting objects:  96% (85/88)\u001b[K\rremote: Counting objects:  97% (86/88)\u001b[K\rremote: Counting objects:  98% (87/88)\u001b[K\rremote: Counting objects: 100% (88/88)\u001b[K\rremote: Counting objects: 100% (88/88), done.\u001b[K\n",
            "remote: Compressing objects: 100% (70/70), done.\u001b[K\n",
            "remote: Total 88 (delta 24), reused 64 (delta 15), pack-reused 0\u001b[K\n",
            "Unpacking objects: 100% (88/88), done.\n"
          ],
          "name": "stdout"
        }
      ]
    },
    {
      "cell_type": "code",
      "metadata": {
        "id": "VgigZ_m0u5NN",
        "colab_type": "code",
        "colab": {}
      },
      "source": [
        "from google.colab import files\n",
        "file_path = '/content/PASA/TP1. Laboratorio de estimación no-paramétrica/Informe/'\n",
        "file_name = 'Ejercicio1.ipynb'\n",
        "files.download(file_path + file_name)"
      ],
      "execution_count": 0,
      "outputs": []
    },
    {
      "cell_type": "code",
      "metadata": {
        "id": "jL-8n4_iXNVy",
        "colab_type": "code",
        "colab": {
          "base_uri": "https://localhost:8080/",
          "height": 258
        },
        "outputId": "6ca81888-54aa-49b1-b5d0-a97eede401dc"
      },
      "source": [
        "!ls #para saber en qué directorio de la computadora de colab nos encontramos\n",
        "#para situarnos en el repo y poder actuar como en git\n",
        "%cd \"PASA\" \n",
        "#para entrar en el branch que necesitemos\n",
        "!git checkout master \n",
        "#para actualizar el estado del repo\n",
        "!git fetch \n",
        "#nos dice si hay algo que commitear o que pullear\n",
        "!git status\n",
        "#para hacer pull\n",
        "!git pull \n",
        "#para agregar un archivo especifico que hayamos puesto en el repo (luego se commiteara)\n",
        "#!git add \"Util/github_colab_tutorial.ipynb\" \n",
        "\n",
        "#commiteamos\n",
        "!git commit \"Util/github_colab_tutorial.ipynb\" \n",
        "\n",
        "#!git push #pusheamos\n"
      ],
      "execution_count": 14,
      "outputs": [
        {
          "output_type": "stream",
          "text": [
            "'TP1. Laboratorio de estimación no-paramétrica'   Util\n",
            "[Errno 2] No such file or directory: 'PASA'\n",
            "/content/PASA\n",
            "Already on 'master'\n",
            "Your branch is up to date with 'origin/master'.\n",
            "On branch master\n",
            "Your branch is up to date with 'origin/master'.\n",
            "\n",
            "nothing to commit, working tree clean\n",
            "Already up to date.\n",
            "On branch master\n",
            "Your branch is up to date with 'origin/master'.\n",
            "\n",
            "nothing to commit, working tree clean\n"
          ],
          "name": "stdout"
        }
      ]
    },
    {
      "cell_type": "code",
      "metadata": {
        "id": "H582-TxoxCdD",
        "colab_type": "code",
        "colab": {}
      },
      "source": [
        "!git config --global user.email “togonzalez@itba.edu.ar”\n",
        "!git config --global user.name “taomasgonzalez”"
      ],
      "execution_count": 0,
      "outputs": []
    },
    {
      "cell_type": "code",
      "metadata": {
        "id": "Yx_99q-TxXxV",
        "colab_type": "code",
        "colab": {
          "base_uri": "https://localhost:8080/",
          "height": 34
        },
        "outputId": "4a6d036c-c959-4dfc-98fb-ff2f1567ed5d"
      },
      "source": [
        "!git push"
      ],
      "execution_count": 15,
      "outputs": [
        {
          "output_type": "stream",
          "text": [
            "fatal: could not read Username for 'https://github.com': No such device or address\n"
          ],
          "name": "stdout"
        }
      ]
    },
    {
      "cell_type": "code",
      "metadata": {
        "id": "G_AuMDvqxXq-",
        "colab_type": "code",
        "colab": {}
      },
      "source": [
        ""
      ],
      "execution_count": 0,
      "outputs": []
    },
    {
      "cell_type": "markdown",
      "metadata": {
        "id": "p98BnAcaXn3G",
        "colab_type": "text"
      },
      "source": [
        "## Cómo actualizar github con el nuevo Jupyter Notebook"
      ]
    }
  ]
}