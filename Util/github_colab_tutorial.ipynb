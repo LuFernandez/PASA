{
  "nbformat": 4,
  "nbformat_minor": 0,
  "metadata": {
    "colab": {
      "name": "github_colab_tutorial.ipynb",
      "version": "0.3.2",
      "provenance": [],
      "collapsed_sections": []
    },
    "kernelspec": {
      "name": "python3",
      "display_name": "Python 3"
    }
  },
  "cells": [
    {
      "cell_type": "markdown",
      "metadata": {
        "id": "dRNNhM3iXV4E",
        "colab_type": "text"
      },
      "source": [
        "# Manejo de Github con google Colab"
      ]
    },
    {
      "cell_type": "markdown",
      "metadata": {
        "id": "dDERTpTXXPPP",
        "colab_type": "text"
      },
      "source": [
        "## Clonamos el repositorio"
      ]
    },
    {
      "cell_type": "code",
      "metadata": {
        "id": "ED4nGWNmXE7a",
        "colab_type": "code",
        "colab": {}
      },
      "source": [
        "#https://medium.com/@navan0/how-to-push-files-into-github-from-google-colab-379fd0077aa8\n",
        "!git clone https://github.com/LuFernandez/PASA.git"
      ],
      "execution_count": 0,
      "outputs": []
    },
    {
      "cell_type": "markdown",
      "metadata": {
        "id": "lH3BraCAXaTZ",
        "colab_type": "text"
      },
      "source": [
        "## Inicializamos git en la computadora de google colab y configuramos con nuestra cuenta"
      ]
    },
    {
      "cell_type": "code",
      "metadata": {
        "id": "Q7s4pNxRXJ49",
        "colab_type": "code",
        "colab": {}
      },
      "source": [
        "!git init\n",
        "!git config — global user.email “togonzalez@itba.edu.ar”\n",
        "!git config — global user.name “taomasgonzalez”"
      ],
      "execution_count": 0,
      "outputs": []
    },
    {
      "cell_type": "code",
      "metadata": {
        "id": "jL-8n4_iXNVy",
        "colab_type": "code",
        "colab": {}
      },
      "source": [
        "!ls #para saber en qué directorio de la computadora de colab nos encontramos\n",
        "%cd \"PASA\" #para situarnos en el repo y poder actuar como en git\n",
        "!git checkout master #para entrar en el branch que necesitemos\n",
        "\n",
        "!git fetch #para actualizar el estado del repo\n",
        "\n",
        "!git status #nos dice si hay algo que commitear o que pullear\n",
        "\n",
        "!git pull #para hacer pull\n",
        "\n",
        "!git add Ejercicio1.ipynb #para agregar un archivo especifico que hayamos puesto en el repo (luego se commiteara)\n",
        "\n",
        "!git commit \"Ejercicio1.ipnyb\" \"Nuevo update\" #commiteamos\n",
        "\n",
        "!git push #pusheamos\n"
      ],
      "execution_count": 0,
      "outputs": []
    },
    {
      "cell_type": "markdown",
      "metadata": {
        "id": "p98BnAcaXn3G",
        "colab_type": "text"
      },
      "source": [
        "## Cómo actualizar github con el nuevo Jupyter Notebook"
      ]
    }
  ]
}