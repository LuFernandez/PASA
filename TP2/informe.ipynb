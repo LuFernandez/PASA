{
  "nbformat": 4,
  "nbformat_minor": 0,
  "metadata": {
    "colab": {
      "name": "informe.ipynb",
      "provenance": [],
      "toc_visible": true,
      "include_colab_link": true
    },
    "kernelspec": {
      "name": "python3",
      "display_name": "Python 3"
    }
  },
  "cells": [
    {
      "cell_type": "markdown",
      "metadata": {
        "id": "view-in-github",
        "colab_type": "text"
      },
      "source": [
        "<a href=\"https://colab.research.google.com/github/LuFernandez/PASA/blob/master/TP2/informe.ipynb\" target=\"_parent\"><img src=\"https://colab.research.google.com/assets/colab-badge.svg\" alt=\"Open In Colab\"/></a>"
      ]
    },
    {
      "cell_type": "markdown",
      "metadata": {
        "id": "NWVPqIP_BZKj",
        "colab_type": "text"
      },
      "source": [
        "# Filtrado óptimo\n",
        "\n",
        "Procesamiento Adaptativo de Señales Aleatorias\n",
        "\n",
        "© 2019 Parra, Rocío\n",
        "\n",
        "© 2019 Fernandez, Lucero Guadalupe"
      ]
    },
    {
      "cell_type": "code",
      "metadata": {
        "id": "N5GEX3BID2Jh",
        "colab_type": "code",
        "colab": {}
      },
      "source": [
        "from IPython.display import clear_output\n",
        "from scipy.io.wavfile import read\n",
        "import numpy as np\n",
        "import IPython.display as ipd\n",
        "import matplotlib.pyplot as plt\n",
        "import wave, struct, math, random\n",
        "from IPython.display import Audio\n",
        "from scipy import signal as sgn\n",
        "from scipy.linalg import toeplitz\n",
        "from statsmodels.tsa.stattools import acf\n",
        "from statsmodels.tsa.stattools import ccf"
      ],
      "execution_count": 0,
      "outputs": []
    },
    {
      "cell_type": "code",
      "metadata": {
        "id": "VwYi3v7TBD12",
        "colab_type": "code",
        "colab": {}
      },
      "source": [
        "!wget \"https://raw.githubusercontent.com/LuFernandez/PASA/master/TP2/samples/sofunny.wav\"\n",
        "!wget \"https://raw.githubusercontent.com/LuFernandez/PASA/master/TP2/samples/lorde.wav\"\n",
        "!wget \"https://raw.githubusercontent.com/LuFernandez/PASA/master/TP2/samples/sweeplin.wav\"\n",
        "!wget \"https://raw.githubusercontent.com/LuFernandez/PASA/master/TP2/samples/sweeplog.wav\"\n",
        "!wget \"https://raw.githubusercontent.com/LuFernandez/PASA/master/TP2/samples/ruido.wav\"\n",
        "!wget \"https://raw.githubusercontent.com/LuFernandez/PASA/master/TP2/samples/cuadrada.wav\"\n",
        "\n",
        "!wget \"https://raw.githubusercontent.com/LuFernandez/PASA/master/TP2/records/grab-sofunny.wav\"\n",
        "!wget \"https://raw.githubusercontent.com/LuFernandez/PASA/master/TP2/records/grab-lorde.wav\"\n",
        "!wget \"https://raw.githubusercontent.com/LuFernandez/PASA/master/TP2/records/grab-sweeplin.wav\"\n",
        "!wget \"https://raw.githubusercontent.com/LuFernandez/PASA/master/TP2/records/grab-sweeplog.wav\"\n",
        "!wget \"https://raw.githubusercontent.com/LuFernandez/PASA/master/TP2/records/grab-ruido.wav\"\n",
        "!wget \"https://raw.githubusercontent.com/LuFernandez/PASA/master/TP2/records/grab-cuadrada.wav\"\n",
        "clear_output()"
      ],
      "execution_count": 0,
      "outputs": []
    },
    {
      "cell_type": "code",
      "metadata": {
        "id": "ODXrW5ylG8tQ",
        "colab_type": "code",
        "colab": {}
      },
      "source": [
        "\n",
        "def get_mono_array(stereo_file_name):\n",
        "  file = read(stereo_file_name)\n",
        "  fs = file[0]\n",
        "  datos = np.array(file[1],dtype=float) \n",
        "  if len(np.shape(datos))>1: #si tiene dos canales\n",
        "      ch0 = datos[:, 0]\n",
        "      ch1 = datos[:, 1]\n",
        "      datos = (ch0 + ch1)/2  # o lo hacemos mono\n",
        "  return fs, datos\n",
        "  \n",
        "def get_signal(path):\n",
        "  file_name = path\n",
        "  fs, signal = get_mono_array(file_name)\n",
        "  signal =  signal/np.linalg.norm(signal)   #normalizo\n",
        "  return signal\n"
      ],
      "execution_count": 0,
      "outputs": []
    },
    {
      "cell_type": "code",
      "metadata": {
        "id": "EhthZFc4Iy4V",
        "colab_type": "code",
        "colab": {}
      },
      "source": [
        "#diccionario con todo lo que necesitamos, u, d, y el tiempo a correr de las señales\n",
        "\n",
        "signals = {\n",
        "  \"music\" : {  'u' : get_signal('./lorde.wav'),  'd' : get_signal('./grab-lorde.wav'),  'shift' : 0.555  },\n",
        "  \"voice\" : {  'u' : get_signal('./sofunny.wav'),  'd' : get_signal('./grab-sofunny.wav'),  'shift' : 1.174  },\n",
        "  \"square\" : {  'u' : get_signal('./cuadrada.wav'),  'd' : get_signal('./grab-cuadrada.wav'),  'shift' : 0.35  },\n",
        "  \"lin\" : {  'u' : get_signal('./sweeplin.wav'),  'd' : get_signal('./grab-sweeplin.wav'),  'shift' : 0.45  },\n",
        "  \"log\" : {  'u' : get_signal('./sweeplog.wav'),  'd' : get_signal('./grab-sweeplog.wav'),  'shift' : .3  },\n",
        "  \"noise\" : {  'u' : get_signal('./ruido.wav'),  'd' : get_signal('./grab-ruido.wav'),  'shift' : 0.7  }\n",
        "}\n",
        "clear_output()"
      ],
      "execution_count": 0,
      "outputs": []
    },
    {
      "cell_type": "markdown",
      "metadata": {
        "id": "FY2vY21zrMW3",
        "colab_type": "text"
      },
      "source": [
        "###Ploteamos las grabaciones y wavs originales para asegurarnos que estén bien sincronizadas"
      ]
    },
    {
      "cell_type": "code",
      "metadata": {
        "id": "0HZrrUZlN4S4",
        "colab_type": "code",
        "colab": {}
      },
      "source": [
        "def sinc_signals(u, d, shift,fs,title):\n",
        "  d = d[int(shift*fs):]\n",
        "  N = min(len(u), len(d))\n",
        "  u = u[:N]\n",
        "  d = d[:N]\n",
        "  plt.figure()\n",
        "  plt.plot(u)\n",
        "  plt.plot(d)\n",
        "  plt.title(title)\n",
        "  plt.show()\n",
        "  return u, d"
      ],
      "execution_count": 0,
      "outputs": []
    },
    {
      "cell_type": "code",
      "metadata": {
        "id": "x77gDDsrPGb0",
        "colab_type": "code",
        "colab": {}
      },
      "source": [
        "fs = 44100    #tanto las grabs como los originales tienen la misma frecuencia de sampleo\n",
        "for sig in signals:\n",
        "   signals[sig]['u'], signals[sig]['d'] = sinc_signals(signals[sig]['u'],signals[sig]['d'],signals[sig]['shift'],fs,sig)"
      ],
      "execution_count": 0,
      "outputs": []
    },
    {
      "cell_type": "markdown",
      "metadata": {
        "id": "4UlP865orj1H",
        "colab_type": "text"
      },
      "source": [
        "###Calculamos r, p y la varianza de d (sigma2d)\n",
        "r es el vector de los coeficientes de autocorrelación; p, el vector de correlación cruzada."
      ]
    },
    {
      "cell_type": "code",
      "metadata": {
        "id": "-ZvC2-r2DKnR",
        "colab_type": "code",
        "colab": {}
      },
      "source": [
        "def estimate(u, d):\n",
        "  #esta funcion no devuelve la matriz de autocorrelación R porque es de tamaño len(u), y consumiría aprox más de 666 GB de memoria\n",
        "    u_fft = np.fft.fft(u)\n",
        "    d_fft = np.fft.fft(d)\n",
        "    \n",
        "    r = np.fft.ifft(u_fft * u_fft.conj()).real\n",
        "    r = r[:len(u)//2]/len(u)\n",
        "\n",
        "    p = np.fft.ifft(u_fft * d_fft.conj()).real\n",
        "    p = p[len(u)//2:]/len(u)\n",
        "    p = np.flip(p)\n",
        "\n",
        "    sigma2d = np.var(d)\n",
        "    return r, p, sigma2d"
      ],
      "execution_count": 0,
      "outputs": []
    },
    {
      "cell_type": "code",
      "metadata": {
        "id": "MGvB9hVxt0H-",
        "colab_type": "code",
        "colab": {}
      },
      "source": [
        "def calc_optimum_filter(R, p, sigma2d):\n",
        "  #hago la toeplitz\n",
        "  #hago la inversa \n",
        "  \n",
        "  return"
      ],
      "execution_count": 0,
      "outputs": []
    },
    {
      "cell_type": "code",
      "metadata": {
        "id": "ZRN8PBQjtoPb",
        "colab_type": "code",
        "colab": {}
      },
      "source": [
        "R,p,sigma2d = estimate()"
      ],
      "execution_count": 0,
      "outputs": []
    }
  ]
}