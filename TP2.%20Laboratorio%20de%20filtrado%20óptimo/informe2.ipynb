{
  "nbformat": 4,
  "nbformat_minor": 0,
  "metadata": {
    "colab": {
      "name": "Untitled1.ipynb",
      "provenance": [],
      "toc_visible": true,
      "include_colab_link": true
    },
    "kernelspec": {
      "name": "python3",
      "display_name": "Python 3"
    }
  },
  "cells": [
    {
      "cell_type": "markdown",
      "metadata": {
        "id": "view-in-github",
        "colab_type": "text"
      },
      "source": [
        "<a href=\"https://colab.research.google.com/github/LuFernandez/PASA/blob/master/TP2.%2520Laboratorio%2520de%2520filtrado%2520%C3%B3ptimo/informe2.ipynb\" target=\"_parent\"><img src=\"https://colab.research.google.com/assets/colab-badge.svg\" alt=\"Open In Colab\"/></a>"
      ]
    },
    {
      "cell_type": "markdown",
      "metadata": {
        "id": "NWVPqIP_BZKj",
        "colab_type": "text"
      },
      "source": [
        "# Filtrado óptimo\n",
        "\n",
        "Procesamiento Adaptativo de Señales Aleatorias\n",
        "\n",
        "© 2019 Parra, Rocío\n",
        "\n",
        "© 2019 Fernandez, Lucero Guadalupe"
      ]
    },
    {
      "cell_type": "code",
      "metadata": {
        "id": "N5GEX3BID2Jh",
        "colab_type": "code",
        "colab": {}
      },
      "source": [
        "from IPython.display import clear_output\n",
        "from scipy.io.wavfile import read\n",
        "import numpy as np\n",
        "import IPython.display as ipd\n",
        "import matplotlib.pyplot as plt\n",
        "import wave, struct, math, random\n",
        "from IPython.display import Audio\n",
        "from scipy import signal as sgn\n",
        "from scipy.linalg import toeplitz\n",
        "from statsmodels.tsa.stattools import acf\n",
        "from statsmodels.tsa.stattools import ccf"
      ],
      "execution_count": 0,
      "outputs": []
    },
    {
      "cell_type": "code",
      "metadata": {
        "id": "VwYi3v7TBD12",
        "colab_type": "code",
        "colab": {}
      },
      "source": [
        "!wget \"https://raw.githubusercontent.com/LuFernandez/PASA/master/TP2.%20Laboratorio%20de%20filtrado%20óptimo/samples/sofunny.wav\"\n",
        "!wget \"https://raw.githubusercontent.com/LuFernandez/PASA/master/TP2.%20Laboratorio%20de%20filtrado%20óptimo/samples/lorde.wav\"\n",
        "!wget \"https://raw.githubusercontent.com/LuFernandez/PASA/master/TP2.%20Laboratorio%20de%20filtrado%20óptimo/samples/sweeplin.wav\"\n",
        "!wget \"https://raw.githubusercontent.com/LuFernandez/PASA/master/TP2.%20Laboratorio%20de%20filtrado%20óptimo/samples/sweeplog.wav\"\n",
        "!wget \"https://raw.githubusercontent.com/LuFernandez/PASA/master/TP2.%20Laboratorio%20de%20filtrado%20óptimo/samples/ruido.wav\"\n",
        "\n",
        "!wget \"https://raw.githubusercontent.com/LuFernandez/PASA/master/TP2.%20Laboratorio%20de%20filtrado%20óptimo/records/grab-sofunny.wav\"\n",
        "!wget \"https://raw.githubusercontent.com/LuFernandez/PASA/master/TP2.%20Laboratorio%20de%20filtrado%20óptimo/records/grab-lorde.wav\"\n",
        "!wget \"https://raw.githubusercontent.com/LuFernandez/PASA/master/TP2.%20Laboratorio%20de%20filtrado%20óptimo/records/grab-sweeplin.wav\"\n",
        "!wget \"https://raw.githubusercontent.com/LuFernandez/PASA/master/TP2.%20Laboratorio%20de%20filtrado%20óptimo/records/grab-sweeplog.wav\"\n",
        "!wget \"https://raw.githubusercontent.com/LuFernandez/PASA/master/TP2.%20Laboratorio%20de%20filtrado%20óptimo/records/grab-ruido.wav\"\n",
        "clear_output()"
      ],
      "execution_count": 0,
      "outputs": []
    },
    {
      "cell_type": "code",
      "metadata": {
        "id": "ODXrW5ylG8tQ",
        "colab_type": "code",
        "colab": {}
      },
      "source": [
        "\n",
        "def get_mono_array(stereo_file_name):\n",
        "  file = read(stereo_file_name)\n",
        "  fs = file[0]\n",
        "  datos = np.array(file[1],dtype=float) \n",
        "  if len(np.shape(datos))>1: #si tiene dos canales\n",
        "      ch0 = datos[:, 0]\n",
        "      ch1 = datos[:, 1]\n",
        "      datos = (ch0 + ch1)/2  # o lo hacemos mono\n",
        "  return fs, datos\n",
        "  \n",
        "def get_signal(path):\n",
        "  file_name = path\n",
        "  fs, grab = get_mono_array(file_name)\n",
        "  grab =  grab/np.linalg.norm(grab)\n",
        "  return grab\n"
      ],
      "execution_count": 0,
      "outputs": []
    },
    {
      "cell_type": "code",
      "metadata": {
        "id": "EhthZFc4Iy4V",
        "colab_type": "code",
        "colab": {
          "base_uri": "https://localhost:8080/",
          "height": 50
        },
        "outputId": "669c6bb6-5257-436c-fab5-459e2f9ea346"
      },
      "source": [
        "signals = {\n",
        "  \"music\" : {  \"u\" : get_signal('./lorde.wav'),  \"d\" : get_signal('./grab-lorde.wav'),  \"shift\" : 1  },\n",
        "  \"voice\" : {  \"u\" : get_signal('./sofunny.wav'),  \"d\" : get_signal('./grab-sofunny.wav'),  \"shift\" : 1  },\n",
        "  \"lin\" : {  \"u\" : get_signal('./sweeplin.wav'),  \"d\" : get_signal('./grab-sweeplin.wav'),  \"shift\" : 1  },\n",
        "  \"log\" : {  \"u\" : get_signal('./sweeplog.wav'),  \"d\" : get_signal('./grab-sweeplog.wav'),  \"shift\" : 1  },\n",
        "  \"noise\" : {  \"u\" : get_signal('./ruido.wav'),  \"d\" : get_signal('./grab-ruido.wav'),  \"shift\" : 1  }\n",
        "}"
      ],
      "execution_count": 23,
      "outputs": [
        {
          "output_type": "stream",
          "text": [
            "/usr/local/lib/python3.6/dist-packages/scipy/io/wavfile.py:273: WavFileWarning: Chunk (non-data) not understood, skipping it.\n",
            "  WavFileWarning)\n"
          ],
          "name": "stderr"
        }
      ]
    },
    {
      "cell_type": "code",
      "metadata": {
        "id": "-ZvC2-r2DKnR",
        "colab_type": "code",
        "colab": {}
      },
      "source": [
        "#ordenes para el filtro\n",
        "Ms = [i for i in range(1,11)]\n",
        "Ms = np.concatenate((Ms,[10*i for i in range(2,11)]))\n",
        "Ms = np.concatenate((Ms,[100*i for i in range(2,11)]))\n",
        "Ms = np.concatenate((Ms,[1000*i for i in range(2,7)]))"
      ],
      "execution_count": 0,
      "outputs": []
    }
  ]
}